{
 "cells": [
  {
   "cell_type": "markdown",
   "metadata": {
    "extensions": {
     "jupyter_dashboards": {
      "version": 1,
      "views": {
       "grid_default": {
        "col": 0,
        "height": 8,
        "hidden": false,
        "row": 0,
        "width": 12
       },
       "report_default": {
        "hidden": false
       }
      }
     }
    }
   },
   "source": [
    "# TOTVS DATA CHALLENGE\n",
    "\n",
    "#### 1. Parse and extract the data.\n",
    "#### 2. Identify a pattern on any set of fields that can help predict how much a customer will spend.\n",
    "#### 3. Calculate a sales forecast for the next week."
   ]
  },
  {
   "cell_type": "markdown",
   "metadata": {
    "extensions": {
     "jupyter_dashboards": {
      "version": 1,
      "views": {
       "grid_default": {
        "col": 0,
        "height": 4,
        "hidden": false,
        "row": 8,
        "width": 4
       },
       "report_default": {
        "hidden": false
       }
      }
     }
    }
   },
   "source": [
    "Import packages:"
   ]
  },
  {
   "cell_type": "code",
   "execution_count": 1,
   "metadata": {
    "collapsed": true,
    "extensions": {
     "jupyter_dashboards": {
      "version": 1,
      "views": {
       "grid_default": {
        "hidden": true
       },
       "report_default": {
        "hidden": false
       }
      }
     }
    }
   },
   "outputs": [],
   "source": [
    "import pandas as pd\n",
    "import numpy as np\n",
    "import matplotlib.pyplot as plt\n",
    "import json"
   ]
  },
  {
   "cell_type": "markdown",
   "metadata": {
    "extensions": {
     "jupyter_dashboards": {
      "version": 1,
      "views": {
       "grid_default": {
        "col": 4,
        "height": 4,
        "hidden": false,
        "row": 8,
        "width": 4
       },
       "report_default": {
        "hidden": false
       }
      }
     }
    }
   },
   "source": [
    "### Import the sample as json:"
   ]
  },
  {
   "cell_type": "code",
   "execution_count": 2,
   "metadata": {
    "collapsed": true,
    "extensions": {
     "jupyter_dashboards": {
      "version": 1,
      "views": {
       "grid_default": {
        "hidden": true
       },
       "report_default": {
        "hidden": false
       }
      }
     }
    }
   },
   "outputs": [],
   "source": [
    "totvs_sample = pd.read_json('sample.txt')"
   ]
  },
  {
   "cell_type": "code",
   "execution_count": 3,
   "metadata": {
    "extensions": {
     "jupyter_dashboards": {
      "version": 1,
      "views": {
       "grid_default": {
        "col": 0,
        "height": 18,
        "hidden": false,
        "row": 12,
        "width": 7
       },
       "report_default": {
        "hidden": false
       }
      }
     }
    }
   },
   "outputs": [
    {
     "data": {
      "text/html": [
       "<div>\n",
       "<style scoped>\n",
       "    .dataframe tbody tr th:only-of-type {\n",
       "        vertical-align: middle;\n",
       "    }\n",
       "\n",
       "    .dataframe tbody tr th {\n",
       "        vertical-align: top;\n",
       "    }\n",
       "\n",
       "    .dataframe thead th {\n",
       "        text-align: right;\n",
       "    }\n",
       "</style>\n",
       "<table border=\"1\" class=\"dataframe\">\n",
       "  <thead>\n",
       "    <tr style=\"text-align: right;\">\n",
       "      <th></th>\n",
       "      <th>complemento</th>\n",
       "      <th>dets</th>\n",
       "      <th>emit</th>\n",
       "      <th>ide</th>\n",
       "      <th>infAdic</th>\n",
       "      <th>total</th>\n",
       "      <th>versaoDocumento</th>\n",
       "    </tr>\n",
       "  </thead>\n",
       "  <tbody>\n",
       "    <tr>\n",
       "      <th>0</th>\n",
       "      <td>{'valorTotal': 24.9}</td>\n",
       "      <td>[{'nItem': '1', 'prod': {'indTot': '1', 'qCom'...</td>\n",
       "      <td>{'cnpj': '01.234.567/0001-89', 'enderEmit': {'...</td>\n",
       "      <td>{'dhEmi': {'$date': '2016-01-05T12:01:54.000Z'...</td>\n",
       "      <td>{'infCpl': 'Mesa 2'}</td>\n",
       "      <td>{'icmsTot': {'vDesc': 0.0, 'vFrete': 0.0, 'vOu...</td>\n",
       "      <td>1</td>\n",
       "    </tr>\n",
       "    <tr>\n",
       "      <th>1</th>\n",
       "      <td>{'valorTotal': 92.53}</td>\n",
       "      <td>[{'nItem': '1', 'prod': {'indTot': '1', 'qCom'...</td>\n",
       "      <td>{'cnpj': '01.234.567/0001-89', 'enderEmit': {'...</td>\n",
       "      <td>{'dhEmi': {'$date': '2016-01-05T12:03:52.000Z'...</td>\n",
       "      <td>{'infCpl': 'Mesa 1'}</td>\n",
       "      <td>{'icmsTot': {'vDesc': 0.0, 'vFrete': 0.0, 'vOu...</td>\n",
       "      <td>1</td>\n",
       "    </tr>\n",
       "    <tr>\n",
       "      <th>2</th>\n",
       "      <td>{'valorTotal': 57.86}</td>\n",
       "      <td>[{'nItem': '1', 'prod': {'indTot': '1', 'qCom'...</td>\n",
       "      <td>{'cnpj': '01.234.567/0001-89', 'enderEmit': {'...</td>\n",
       "      <td>{'dhEmi': {'$date': '2016-01-05T12:16:40.000Z'...</td>\n",
       "      <td>{'infCpl': 'Mesa 5'}</td>\n",
       "      <td>{'icmsTot': {'vDesc': 0.0, 'vFrete': 0.0, 'vOu...</td>\n",
       "      <td>1</td>\n",
       "    </tr>\n",
       "    <tr>\n",
       "      <th>3</th>\n",
       "      <td>{'valorTotal': 34.97}</td>\n",
       "      <td>[{'nItem': '1', 'prod': {'indTot': '1', 'qCom'...</td>\n",
       "      <td>{'cnpj': '01.234.567/0001-89', 'enderEmit': {'...</td>\n",
       "      <td>{'dhEmi': {'$date': '2016-01-05T12:17:50.000Z'...</td>\n",
       "      <td>{'infCpl': 'Mesa 3'}</td>\n",
       "      <td>{'icmsTot': {'vDesc': 0.0, 'vFrete': 0.0, 'vOu...</td>\n",
       "      <td>1</td>\n",
       "    </tr>\n",
       "    <tr>\n",
       "      <th>4</th>\n",
       "      <td>{'valorTotal': 46.23}</td>\n",
       "      <td>[{'nItem': '1', 'prod': {'indTot': '1', 'qCom'...</td>\n",
       "      <td>{'cnpj': '01.234.567/0001-89', 'enderEmit': {'...</td>\n",
       "      <td>{'dhEmi': {'$date': '2016-01-05T12:18:35.000Z'...</td>\n",
       "      <td>{'infCpl': 'Mesa 4'}</td>\n",
       "      <td>{'icmsTot': {'vDesc': 0.0, 'vFrete': 0.0, 'vOu...</td>\n",
       "      <td>1</td>\n",
       "    </tr>\n",
       "  </tbody>\n",
       "</table>\n",
       "</div>"
      ],
      "text/plain": [
       "             complemento                                               dets  \\\n",
       "0   {'valorTotal': 24.9}  [{'nItem': '1', 'prod': {'indTot': '1', 'qCom'...   \n",
       "1  {'valorTotal': 92.53}  [{'nItem': '1', 'prod': {'indTot': '1', 'qCom'...   \n",
       "2  {'valorTotal': 57.86}  [{'nItem': '1', 'prod': {'indTot': '1', 'qCom'...   \n",
       "3  {'valorTotal': 34.97}  [{'nItem': '1', 'prod': {'indTot': '1', 'qCom'...   \n",
       "4  {'valorTotal': 46.23}  [{'nItem': '1', 'prod': {'indTot': '1', 'qCom'...   \n",
       "\n",
       "                                                emit  \\\n",
       "0  {'cnpj': '01.234.567/0001-89', 'enderEmit': {'...   \n",
       "1  {'cnpj': '01.234.567/0001-89', 'enderEmit': {'...   \n",
       "2  {'cnpj': '01.234.567/0001-89', 'enderEmit': {'...   \n",
       "3  {'cnpj': '01.234.567/0001-89', 'enderEmit': {'...   \n",
       "4  {'cnpj': '01.234.567/0001-89', 'enderEmit': {'...   \n",
       "\n",
       "                                                 ide               infAdic  \\\n",
       "0  {'dhEmi': {'$date': '2016-01-05T12:01:54.000Z'...  {'infCpl': 'Mesa 2'}   \n",
       "1  {'dhEmi': {'$date': '2016-01-05T12:03:52.000Z'...  {'infCpl': 'Mesa 1'}   \n",
       "2  {'dhEmi': {'$date': '2016-01-05T12:16:40.000Z'...  {'infCpl': 'Mesa 5'}   \n",
       "3  {'dhEmi': {'$date': '2016-01-05T12:17:50.000Z'...  {'infCpl': 'Mesa 3'}   \n",
       "4  {'dhEmi': {'$date': '2016-01-05T12:18:35.000Z'...  {'infCpl': 'Mesa 4'}   \n",
       "\n",
       "                                               total versaoDocumento  \n",
       "0  {'icmsTot': {'vDesc': 0.0, 'vFrete': 0.0, 'vOu...               1  \n",
       "1  {'icmsTot': {'vDesc': 0.0, 'vFrete': 0.0, 'vOu...               1  \n",
       "2  {'icmsTot': {'vDesc': 0.0, 'vFrete': 0.0, 'vOu...               1  \n",
       "3  {'icmsTot': {'vDesc': 0.0, 'vFrete': 0.0, 'vOu...               1  \n",
       "4  {'icmsTot': {'vDesc': 0.0, 'vFrete': 0.0, 'vOu...               1  "
      ]
     },
     "execution_count": 3,
     "metadata": {},
     "output_type": "execute_result"
    }
   ],
   "source": [
    "totvs_sample.head()"
   ]
  },
  {
   "cell_type": "code",
   "execution_count": 4,
   "metadata": {
    "collapsed": true,
    "extensions": {
     "jupyter_dashboards": {
      "version": 1,
      "views": {
       "grid_default": {
        "hidden": true
       },
       "report_default": {
        "hidden": true
       }
      }
     }
    }
   },
   "outputs": [],
   "source": [
    "with open('sample.txt') as json_file:\n",
    "    json_data = json.load(json_file)"
   ]
  },
  {
   "cell_type": "code",
   "execution_count": 5,
   "metadata": {
    "extensions": {
     "jupyter_dashboards": {
      "version": 1,
      "views": {
       "grid_default": {
        "col": 8,
        "height": 25,
        "hidden": false,
        "row": 8,
        "width": 4
       },
       "report_default": {
        "hidden": false
       }
      }
     }
    }
   },
   "outputs": [
    {
     "data": {
      "text/plain": [
       "{'complemento': {'valorTotal': 24.9},\n",
       " 'dets': [{'nItem': '1',\n",
       "   'prod': {'indTot': '1',\n",
       "    'qCom': 1.0,\n",
       "    'uCom': 'UN',\n",
       "    'vProd': 3.5,\n",
       "    'vUnCom': 3.5,\n",
       "    'xProd': 'AGUA'}},\n",
       "  {'nItem': '2',\n",
       "   'prod': {'indTot': '1',\n",
       "    'qCom': 0.312,\n",
       "    'uCom': 'KG',\n",
       "    'vProd': 21.4,\n",
       "    'vUnCom': 68.6,\n",
       "    'xProd': 'BUFFET'}}],\n",
       " 'emit': {'cnpj': '01.234.567/0001-89',\n",
       "  'enderEmit': {'fone': '1-650-933-4902',\n",
       "   'uf': 'CA',\n",
       "   'xBairro': '',\n",
       "   'xLgr': '650 Castro St. unit 210',\n",
       "   'xMun': 'Mountain View',\n",
       "   'xPais': 'United States'},\n",
       "  'xFant': 'TOTVS Labs'},\n",
       " 'ide': {'dhEmi': {'$date': '2016-01-05T12:01:54.000Z'}, 'natOp': 'VENDA'},\n",
       " 'infAdic': {'infCpl': 'Mesa 2'},\n",
       " 'total': {'icmsTot': {'vDesc': 0.0,\n",
       "   'vFrete': 0.0,\n",
       "   'vOutro': 0.0,\n",
       "   'vProd': 24.9,\n",
       "   'vSeg': 0.0,\n",
       "   'vTotTrib': 2.53,\n",
       "   'vbc': 0.0,\n",
       "   'vbcst': 0.0,\n",
       "   'vcofins': 0.0,\n",
       "   'vicms': 0.0,\n",
       "   'vicmsDeson': 0.0,\n",
       "   'vii': 0.0,\n",
       "   'vipi': 0.0,\n",
       "   'vnf': 24.9,\n",
       "   'vpis': 0.0,\n",
       "   'vst': 0.0}},\n",
       " 'versaoDocumento': 1.0}"
      ]
     },
     "execution_count": 5,
     "metadata": {},
     "output_type": "execute_result"
    }
   ],
   "source": [
    "json_data[0]"
   ]
  },
  {
   "cell_type": "code",
   "execution_count": 6,
   "metadata": {
    "collapsed": true,
    "extensions": {
     "jupyter_dashboards": {
      "version": 1,
      "views": {
       "grid_default": {
        "hidden": true
       },
       "report_default": {
        "hidden": true
       }
      }
     }
    }
   },
   "outputs": [],
   "source": [
    "sample = pd.DataFrame(json_data)"
   ]
  },
  {
   "cell_type": "markdown",
   "metadata": {
    "extensions": {
     "jupyter_dashboards": {
      "version": 1,
      "views": {
       "grid_default": {
        "col": 0,
        "height": 4,
        "hidden": false,
        "row": 30,
        "width": 4
       },
       "report_default": {
        "hidden": false
       }
      }
     }
    }
   },
   "source": [
    "### Getting what is useful for the job:"
   ]
  },
  {
   "cell_type": "code",
   "execution_count": 7,
   "metadata": {
    "collapsed": true,
    "extensions": {
     "jupyter_dashboards": {
      "version": 1,
      "views": {
       "grid_default": {
        "hidden": true
       },
       "report_default": {
        "hidden": true
       }
      }
     }
    }
   },
   "outputs": [],
   "source": [
    "u_sample = sample[['complemento', 'dets', 'ide', 'infAdic']]"
   ]
  },
  {
   "cell_type": "code",
   "execution_count": 8,
   "metadata": {
    "extensions": {
     "jupyter_dashboards": {
      "version": 1,
      "views": {
       "grid_default": {
        "col": 4,
        "height": 18,
        "hidden": false,
        "row": 30,
        "width": 4
       },
       "report_default": {
        "hidden": false
       }
      }
     }
    }
   },
   "outputs": [
    {
     "data": {
      "text/html": [
       "<div>\n",
       "<style scoped>\n",
       "    .dataframe tbody tr th:only-of-type {\n",
       "        vertical-align: middle;\n",
       "    }\n",
       "\n",
       "    .dataframe tbody tr th {\n",
       "        vertical-align: top;\n",
       "    }\n",
       "\n",
       "    .dataframe thead th {\n",
       "        text-align: right;\n",
       "    }\n",
       "</style>\n",
       "<table border=\"1\" class=\"dataframe\">\n",
       "  <thead>\n",
       "    <tr style=\"text-align: right;\">\n",
       "      <th></th>\n",
       "      <th>complemento</th>\n",
       "      <th>dets</th>\n",
       "      <th>ide</th>\n",
       "      <th>infAdic</th>\n",
       "    </tr>\n",
       "  </thead>\n",
       "  <tbody>\n",
       "    <tr>\n",
       "      <th>0</th>\n",
       "      <td>{'valorTotal': 24.9}</td>\n",
       "      <td>[{'nItem': '1', 'prod': {'indTot': '1', 'qCom'...</td>\n",
       "      <td>{'dhEmi': {'$date': '2016-01-05T12:01:54.000Z'...</td>\n",
       "      <td>{'infCpl': 'Mesa 2'}</td>\n",
       "    </tr>\n",
       "    <tr>\n",
       "      <th>1</th>\n",
       "      <td>{'valorTotal': 92.53}</td>\n",
       "      <td>[{'nItem': '1', 'prod': {'indTot': '1', 'qCom'...</td>\n",
       "      <td>{'dhEmi': {'$date': '2016-01-05T12:03:52.000Z'...</td>\n",
       "      <td>{'infCpl': 'Mesa 1'}</td>\n",
       "    </tr>\n",
       "    <tr>\n",
       "      <th>2</th>\n",
       "      <td>{'valorTotal': 57.86}</td>\n",
       "      <td>[{'nItem': '1', 'prod': {'indTot': '1', 'qCom'...</td>\n",
       "      <td>{'dhEmi': {'$date': '2016-01-05T12:16:40.000Z'...</td>\n",
       "      <td>{'infCpl': 'Mesa 5'}</td>\n",
       "    </tr>\n",
       "    <tr>\n",
       "      <th>3</th>\n",
       "      <td>{'valorTotal': 34.97}</td>\n",
       "      <td>[{'nItem': '1', 'prod': {'indTot': '1', 'qCom'...</td>\n",
       "      <td>{'dhEmi': {'$date': '2016-01-05T12:17:50.000Z'...</td>\n",
       "      <td>{'infCpl': 'Mesa 3'}</td>\n",
       "    </tr>\n",
       "    <tr>\n",
       "      <th>4</th>\n",
       "      <td>{'valorTotal': 46.23}</td>\n",
       "      <td>[{'nItem': '1', 'prod': {'indTot': '1', 'qCom'...</td>\n",
       "      <td>{'dhEmi': {'$date': '2016-01-05T12:18:35.000Z'...</td>\n",
       "      <td>{'infCpl': 'Mesa 4'}</td>\n",
       "    </tr>\n",
       "  </tbody>\n",
       "</table>\n",
       "</div>"
      ],
      "text/plain": [
       "             complemento                                               dets  \\\n",
       "0   {'valorTotal': 24.9}  [{'nItem': '1', 'prod': {'indTot': '1', 'qCom'...   \n",
       "1  {'valorTotal': 92.53}  [{'nItem': '1', 'prod': {'indTot': '1', 'qCom'...   \n",
       "2  {'valorTotal': 57.86}  [{'nItem': '1', 'prod': {'indTot': '1', 'qCom'...   \n",
       "3  {'valorTotal': 34.97}  [{'nItem': '1', 'prod': {'indTot': '1', 'qCom'...   \n",
       "4  {'valorTotal': 46.23}  [{'nItem': '1', 'prod': {'indTot': '1', 'qCom'...   \n",
       "\n",
       "                                                 ide               infAdic  \n",
       "0  {'dhEmi': {'$date': '2016-01-05T12:01:54.000Z'...  {'infCpl': 'Mesa 2'}  \n",
       "1  {'dhEmi': {'$date': '2016-01-05T12:03:52.000Z'...  {'infCpl': 'Mesa 1'}  \n",
       "2  {'dhEmi': {'$date': '2016-01-05T12:16:40.000Z'...  {'infCpl': 'Mesa 5'}  \n",
       "3  {'dhEmi': {'$date': '2016-01-05T12:17:50.000Z'...  {'infCpl': 'Mesa 3'}  \n",
       "4  {'dhEmi': {'$date': '2016-01-05T12:18:35.000Z'...  {'infCpl': 'Mesa 4'}  "
      ]
     },
     "execution_count": 8,
     "metadata": {},
     "output_type": "execute_result"
    }
   ],
   "source": [
    "u_sample.head()"
   ]
  },
  {
   "cell_type": "code",
   "execution_count": 9,
   "metadata": {
    "collapsed": true,
    "extensions": {
     "jupyter_dashboards": {
      "version": 1,
      "views": {
       "grid_default": {
        "hidden": true
       },
       "report_default": {
        "hidden": true
       }
      }
     }
    }
   },
   "outputs": [],
   "source": [
    "u_sample_copy = u_sample.copy()\n",
    "u_sample_copy['valorTotal'] = ''"
   ]
  },
  {
   "cell_type": "code",
   "execution_count": 10,
   "metadata": {
    "collapsed": true,
    "extensions": {
     "jupyter_dashboards": {
      "version": 1,
      "views": {
       "grid_default": {
        "hidden": true
       },
       "report_default": {
        "hidden": true
       }
      }
     }
    }
   },
   "outputs": [],
   "source": [
    "for i in u_sample_copy.index:\n",
    "    u_sample_copy['valorTotal'][i] = u_sample_copy['complemento'][i]['valorTotal']\n",
    "    u_sample_copy['ide'][i] = u_sample_copy['ide'][i]['dhEmi']['$date']\n",
    "    u_sample_copy['infAdic'][i] = u_sample_copy['infAdic'][i]['infCpl']"
   ]
  },
  {
   "cell_type": "code",
   "execution_count": 11,
   "metadata": {
    "extensions": {
     "jupyter_dashboards": {
      "version": 1,
      "views": {
       "grid_default": {
        "col": 0,
        "height": 18,
        "hidden": false,
        "row": 48,
        "width": 5
       },
       "report_default": {
        "hidden": false
       }
      }
     }
    }
   },
   "outputs": [
    {
     "data": {
      "text/html": [
       "<div>\n",
       "<style scoped>\n",
       "    .dataframe tbody tr th:only-of-type {\n",
       "        vertical-align: middle;\n",
       "    }\n",
       "\n",
       "    .dataframe tbody tr th {\n",
       "        vertical-align: top;\n",
       "    }\n",
       "\n",
       "    .dataframe thead th {\n",
       "        text-align: right;\n",
       "    }\n",
       "</style>\n",
       "<table border=\"1\" class=\"dataframe\">\n",
       "  <thead>\n",
       "    <tr style=\"text-align: right;\">\n",
       "      <th></th>\n",
       "      <th>complemento</th>\n",
       "      <th>dets</th>\n",
       "      <th>ide</th>\n",
       "      <th>infAdic</th>\n",
       "      <th>valorTotal</th>\n",
       "    </tr>\n",
       "  </thead>\n",
       "  <tbody>\n",
       "    <tr>\n",
       "      <th>0</th>\n",
       "      <td>{'valorTotal': 24.9}</td>\n",
       "      <td>[{'nItem': '1', 'prod': {'indTot': '1', 'qCom'...</td>\n",
       "      <td>2016-01-05T12:01:54.000Z</td>\n",
       "      <td>Mesa 2</td>\n",
       "      <td>24.9</td>\n",
       "    </tr>\n",
       "    <tr>\n",
       "      <th>1</th>\n",
       "      <td>{'valorTotal': 92.53}</td>\n",
       "      <td>[{'nItem': '1', 'prod': {'indTot': '1', 'qCom'...</td>\n",
       "      <td>2016-01-05T12:03:52.000Z</td>\n",
       "      <td>Mesa 1</td>\n",
       "      <td>92.53</td>\n",
       "    </tr>\n",
       "    <tr>\n",
       "      <th>2</th>\n",
       "      <td>{'valorTotal': 57.86}</td>\n",
       "      <td>[{'nItem': '1', 'prod': {'indTot': '1', 'qCom'...</td>\n",
       "      <td>2016-01-05T12:16:40.000Z</td>\n",
       "      <td>Mesa 5</td>\n",
       "      <td>57.86</td>\n",
       "    </tr>\n",
       "    <tr>\n",
       "      <th>3</th>\n",
       "      <td>{'valorTotal': 34.97}</td>\n",
       "      <td>[{'nItem': '1', 'prod': {'indTot': '1', 'qCom'...</td>\n",
       "      <td>2016-01-05T12:17:50.000Z</td>\n",
       "      <td>Mesa 3</td>\n",
       "      <td>34.97</td>\n",
       "    </tr>\n",
       "    <tr>\n",
       "      <th>4</th>\n",
       "      <td>{'valorTotal': 46.23}</td>\n",
       "      <td>[{'nItem': '1', 'prod': {'indTot': '1', 'qCom'...</td>\n",
       "      <td>2016-01-05T12:18:35.000Z</td>\n",
       "      <td>Mesa 4</td>\n",
       "      <td>46.23</td>\n",
       "    </tr>\n",
       "  </tbody>\n",
       "</table>\n",
       "</div>"
      ],
      "text/plain": [
       "             complemento                                               dets  \\\n",
       "0   {'valorTotal': 24.9}  [{'nItem': '1', 'prod': {'indTot': '1', 'qCom'...   \n",
       "1  {'valorTotal': 92.53}  [{'nItem': '1', 'prod': {'indTot': '1', 'qCom'...   \n",
       "2  {'valorTotal': 57.86}  [{'nItem': '1', 'prod': {'indTot': '1', 'qCom'...   \n",
       "3  {'valorTotal': 34.97}  [{'nItem': '1', 'prod': {'indTot': '1', 'qCom'...   \n",
       "4  {'valorTotal': 46.23}  [{'nItem': '1', 'prod': {'indTot': '1', 'qCom'...   \n",
       "\n",
       "                        ide infAdic valorTotal  \n",
       "0  2016-01-05T12:01:54.000Z  Mesa 2       24.9  \n",
       "1  2016-01-05T12:03:52.000Z  Mesa 1      92.53  \n",
       "2  2016-01-05T12:16:40.000Z  Mesa 5      57.86  \n",
       "3  2016-01-05T12:17:50.000Z  Mesa 3      34.97  \n",
       "4  2016-01-05T12:18:35.000Z  Mesa 4      46.23  "
      ]
     },
     "execution_count": 11,
     "metadata": {},
     "output_type": "execute_result"
    }
   ],
   "source": [
    "u_sample_copy.head() #testing"
   ]
  },
  {
   "cell_type": "code",
   "execution_count": 12,
   "metadata": {
    "extensions": {
     "jupyter_dashboards": {
      "version": 1,
      "views": {
       "grid_default": {
        "col": 8,
        "height": 36,
        "hidden": false,
        "row": 33,
        "width": 4
       },
       "report_default": {
        "hidden": false
       }
      }
     }
    }
   },
   "outputs": [
    {
     "data": {
      "text/plain": [
       "0         {'valorTotal': 24.9}\n",
       "1        {'valorTotal': 92.53}\n",
       "2        {'valorTotal': 57.86}\n",
       "3        {'valorTotal': 34.97}\n",
       "4        {'valorTotal': 46.23}\n",
       "5        {'valorTotal': 32.76}\n",
       "6        {'valorTotal': 57.11}\n",
       "7        {'valorTotal': 36.19}\n",
       "8        {'valorTotal': 32.37}\n",
       "9       {'valorTotal': 119.47}\n",
       "10       {'valorTotal': 37.04}\n",
       "11       {'valorTotal': 32.41}\n",
       "12       {'valorTotal': 34.17}\n",
       "13       {'valorTotal': 36.46}\n",
       "14       {'valorTotal': 27.13}\n",
       "15       {'valorTotal': 26.65}\n",
       "16       {'valorTotal': 30.59}\n",
       "17       {'valorTotal': 33.99}\n",
       "18       {'valorTotal': 21.71}\n",
       "19       {'valorTotal': 32.35}\n",
       "20       {'valorTotal': 23.77}\n",
       "21       {'valorTotal': 23.46}\n",
       "22       {'valorTotal': 62.36}\n",
       "23       {'valorTotal': 29.97}\n",
       "24        {'valorTotal': 47.3}\n",
       "25       {'valorTotal': 39.13}\n",
       "26       {'valorTotal': 34.27}\n",
       "27       {'valorTotal': 22.22}\n",
       "28       {'valorTotal': 39.17}\n",
       "29       {'valorTotal': 27.16}\n",
       "                 ...          \n",
       "1605     {'valorTotal': 66.01}\n",
       "1606     {'valorTotal': 98.23}\n",
       "1607     {'valorTotal': 80.45}\n",
       "1608     {'valorTotal': 52.82}\n",
       "1609     {'valorTotal': 44.86}\n",
       "1610     {'valorTotal': 43.77}\n",
       "1611    {'valorTotal': 116.53}\n",
       "1612     {'valorTotal': 65.04}\n",
       "1613     {'valorTotal': 61.88}\n",
       "1614    {'valorTotal': 120.21}\n",
       "1615      {'valorTotal': 73.2}\n",
       "1616     {'valorTotal': 121.2}\n",
       "1617     {'valorTotal': 36.64}\n",
       "1618     {'valorTotal': 46.25}\n",
       "1619     {'valorTotal': 51.17}\n",
       "1620     {'valorTotal': 72.84}\n",
       "1621     {'valorTotal': 78.87}\n",
       "1622     {'valorTotal': 77.84}\n",
       "1623    {'valorTotal': 170.68}\n",
       "1624      {'valorTotal': 57.2}\n",
       "1625      {'valorTotal': 32.1}\n",
       "1626    {'valorTotal': 106.98}\n",
       "1627     {'valorTotal': 75.57}\n",
       "1628      {'valorTotal': 68.2}\n",
       "1629     {'valorTotal': 94.13}\n",
       "1630     {'valorTotal': 74.84}\n",
       "1631     {'valorTotal': 67.64}\n",
       "1632     {'valorTotal': 42.26}\n",
       "1633    {'valorTotal': 102.09}\n",
       "1634      {'valorTotal': 32.8}\n",
       "Name: complemento, Length: 1635, dtype: object"
      ]
     },
     "execution_count": 12,
     "metadata": {},
     "output_type": "execute_result"
    }
   ],
   "source": [
    "u_sample_copy.pop('complemento')"
   ]
  },
  {
   "cell_type": "markdown",
   "metadata": {
    "extensions": {
     "jupyter_dashboards": {
      "version": 1,
      "views": {
       "grid_default": {
        "col": 0,
        "height": 4,
        "hidden": false,
        "row": 34,
        "width": 4
       },
       "report_default": {
        "hidden": false
       }
      }
     }
    }
   },
   "source": [
    "### Listing itens bought by date and table:"
   ]
  },
  {
   "cell_type": "code",
   "execution_count": 13,
   "metadata": {
    "extensions": {
     "jupyter_dashboards": {
      "version": 1,
      "views": {
       "grid_default": {
        "col": 0,
        "height": 11,
        "hidden": false,
        "row": 66,
        "width": 4
       },
       "report_default": {
        "hidden": false
       }
      }
     }
    }
   },
   "outputs": [
    {
     "data": {
      "text/html": [
       "<div>\n",
       "<style scoped>\n",
       "    .dataframe tbody tr th:only-of-type {\n",
       "        vertical-align: middle;\n",
       "    }\n",
       "\n",
       "    .dataframe tbody tr th {\n",
       "        vertical-align: top;\n",
       "    }\n",
       "\n",
       "    .dataframe thead th {\n",
       "        text-align: right;\n",
       "    }\n",
       "</style>\n",
       "<table border=\"1\" class=\"dataframe\">\n",
       "  <thead>\n",
       "    <tr style=\"text-align: right;\">\n",
       "      <th></th>\n",
       "      <th>dets</th>\n",
       "      <th>ide</th>\n",
       "      <th>infAdic</th>\n",
       "      <th>valorTotal</th>\n",
       "    </tr>\n",
       "  </thead>\n",
       "  <tbody>\n",
       "    <tr>\n",
       "      <th>0</th>\n",
       "      <td>[{'nItem': '1', 'prod': {'indTot': '1', 'qCom'...</td>\n",
       "      <td>2016-01-05T12:01:54.000Z</td>\n",
       "      <td>Mesa 2</td>\n",
       "      <td>24.9</td>\n",
       "    </tr>\n",
       "    <tr>\n",
       "      <th>1</th>\n",
       "      <td>[{'nItem': '1', 'prod': {'indTot': '1', 'qCom'...</td>\n",
       "      <td>2016-01-05T12:03:52.000Z</td>\n",
       "      <td>Mesa 1</td>\n",
       "      <td>92.53</td>\n",
       "    </tr>\n",
       "    <tr>\n",
       "      <th>2</th>\n",
       "      <td>[{'nItem': '1', 'prod': {'indTot': '1', 'qCom'...</td>\n",
       "      <td>2016-01-05T12:16:40.000Z</td>\n",
       "      <td>Mesa 5</td>\n",
       "      <td>57.86</td>\n",
       "    </tr>\n",
       "    <tr>\n",
       "      <th>3</th>\n",
       "      <td>[{'nItem': '1', 'prod': {'indTot': '1', 'qCom'...</td>\n",
       "      <td>2016-01-05T12:17:50.000Z</td>\n",
       "      <td>Mesa 3</td>\n",
       "      <td>34.97</td>\n",
       "    </tr>\n",
       "    <tr>\n",
       "      <th>4</th>\n",
       "      <td>[{'nItem': '1', 'prod': {'indTot': '1', 'qCom'...</td>\n",
       "      <td>2016-01-05T12:18:35.000Z</td>\n",
       "      <td>Mesa 4</td>\n",
       "      <td>46.23</td>\n",
       "    </tr>\n",
       "  </tbody>\n",
       "</table>\n",
       "</div>"
      ],
      "text/plain": [
       "                                                dets  \\\n",
       "0  [{'nItem': '1', 'prod': {'indTot': '1', 'qCom'...   \n",
       "1  [{'nItem': '1', 'prod': {'indTot': '1', 'qCom'...   \n",
       "2  [{'nItem': '1', 'prod': {'indTot': '1', 'qCom'...   \n",
       "3  [{'nItem': '1', 'prod': {'indTot': '1', 'qCom'...   \n",
       "4  [{'nItem': '1', 'prod': {'indTot': '1', 'qCom'...   \n",
       "\n",
       "                        ide infAdic valorTotal  \n",
       "0  2016-01-05T12:01:54.000Z  Mesa 2       24.9  \n",
       "1  2016-01-05T12:03:52.000Z  Mesa 1      92.53  \n",
       "2  2016-01-05T12:16:40.000Z  Mesa 5      57.86  \n",
       "3  2016-01-05T12:17:50.000Z  Mesa 3      34.97  \n",
       "4  2016-01-05T12:18:35.000Z  Mesa 4      46.23  "
      ]
     },
     "execution_count": 13,
     "metadata": {},
     "output_type": "execute_result"
    }
   ],
   "source": [
    "u_sample_copy.head()"
   ]
  },
  {
   "cell_type": "code",
   "execution_count": 14,
   "metadata": {
    "extensions": {
     "jupyter_dashboards": {
      "version": 1,
      "views": {
       "grid_default": {
        "col": 0,
        "height": 9,
        "hidden": false,
        "row": 38,
        "width": 4
       },
       "report_default": {
        "hidden": false
       }
      }
     }
    }
   },
   "outputs": [
    {
     "data": {
      "text/plain": [
       "[{'nItem': '1',\n",
       "  'prod': {'indTot': '1',\n",
       "   'qCom': 1.0,\n",
       "   'uCom': 'UN',\n",
       "   'vProd': 3.5,\n",
       "   'vUnCom': 3.5,\n",
       "   'xProd': 'AGUA'}},\n",
       " {'nItem': '2',\n",
       "  'prod': {'indTot': '1',\n",
       "   'qCom': 0.312,\n",
       "   'uCom': 'KG',\n",
       "   'vProd': 21.4,\n",
       "   'vUnCom': 68.6,\n",
       "   'xProd': 'BUFFET'}}]"
      ]
     },
     "execution_count": 14,
     "metadata": {},
     "output_type": "execute_result"
    }
   ],
   "source": [
    "u_sample_copy.dets[0]"
   ]
  },
  {
   "cell_type": "code",
   "execution_count": 15,
   "metadata": {
    "collapsed": true,
    "extensions": {
     "jupyter_dashboards": {
      "version": 1,
      "views": {
       "grid_default": {
        "hidden": true
       },
       "report_default": {
        "hidden": true
       }
      }
     }
    }
   },
   "outputs": [],
   "source": [
    "produto_df = pd.DataFrame()\n",
    "produto_df['valorProduto'] = ''\n",
    "produto_df['nomeProduto'] = ''\n",
    "produto_df['ide'] = ''"
   ]
  },
  {
   "cell_type": "code",
   "execution_count": 16,
   "metadata": {
    "collapsed": true,
    "extensions": {
     "jupyter_dashboards": {
      "version": 1,
      "views": {
       "grid_default": {
        "hidden": true
       },
       "report_default": {
        "hidden": true
       }
      }
     }
    }
   },
   "outputs": [],
   "source": [
    "i = 0\n",
    "for lista in u_sample_copy.dets:\n",
    "    for produto in lista:\n",
    "        produto_df.loc[len(produto_df)] = [produto['prod']['vProd'], produto['prod']['xProd'], u_sample_copy.ide[i]]\n",
    "    i += 1"
   ]
  },
  {
   "cell_type": "code",
   "execution_count": 17,
   "metadata": {
    "extensions": {
     "jupyter_dashboards": {
      "version": 1,
      "views": {
       "grid_default": {
        "col": 4,
        "height": 9,
        "hidden": false,
        "row": 66,
        "width": 4
       },
       "report_default": {
        "hidden": false
       }
      }
     }
    }
   },
   "outputs": [
    {
     "data": {
      "text/html": [
       "<div>\n",
       "<style scoped>\n",
       "    .dataframe tbody tr th:only-of-type {\n",
       "        vertical-align: middle;\n",
       "    }\n",
       "\n",
       "    .dataframe tbody tr th {\n",
       "        vertical-align: top;\n",
       "    }\n",
       "\n",
       "    .dataframe thead th {\n",
       "        text-align: right;\n",
       "    }\n",
       "</style>\n",
       "<table border=\"1\" class=\"dataframe\">\n",
       "  <thead>\n",
       "    <tr style=\"text-align: right;\">\n",
       "      <th></th>\n",
       "      <th>valorProduto</th>\n",
       "      <th>nomeProduto</th>\n",
       "      <th>ide</th>\n",
       "    </tr>\n",
       "  </thead>\n",
       "  <tbody>\n",
       "    <tr>\n",
       "      <th>0</th>\n",
       "      <td>3.50</td>\n",
       "      <td>AGUA</td>\n",
       "      <td>2016-01-05T12:01:54.000Z</td>\n",
       "    </tr>\n",
       "    <tr>\n",
       "      <th>1</th>\n",
       "      <td>21.40</td>\n",
       "      <td>BUFFET</td>\n",
       "      <td>2016-01-05T12:01:54.000Z</td>\n",
       "    </tr>\n",
       "    <tr>\n",
       "      <th>2</th>\n",
       "      <td>83.55</td>\n",
       "      <td>BUFFET</td>\n",
       "      <td>2016-01-05T12:03:52.000Z</td>\n",
       "    </tr>\n",
       "    <tr>\n",
       "      <th>3</th>\n",
       "      <td>9.00</td>\n",
       "      <td>REFRIGERANTE</td>\n",
       "      <td>2016-01-05T12:03:52.000Z</td>\n",
       "    </tr>\n",
       "    <tr>\n",
       "      <th>4</th>\n",
       "      <td>4.50</td>\n",
       "      <td>SUCO</td>\n",
       "      <td>2016-01-05T12:16:40.000Z</td>\n",
       "    </tr>\n",
       "  </tbody>\n",
       "</table>\n",
       "</div>"
      ],
      "text/plain": [
       "   valorProduto   nomeProduto                       ide\n",
       "0          3.50          AGUA  2016-01-05T12:01:54.000Z\n",
       "1         21.40        BUFFET  2016-01-05T12:01:54.000Z\n",
       "2         83.55        BUFFET  2016-01-05T12:03:52.000Z\n",
       "3          9.00  REFRIGERANTE  2016-01-05T12:03:52.000Z\n",
       "4          4.50          SUCO  2016-01-05T12:16:40.000Z"
      ]
     },
     "execution_count": 17,
     "metadata": {},
     "output_type": "execute_result"
    }
   ],
   "source": [
    "produto_df.head()"
   ]
  },
  {
   "cell_type": "code",
   "execution_count": 18,
   "metadata": {
    "collapsed": true,
    "extensions": {
     "jupyter_dashboards": {
      "version": 1,
      "views": {
       "grid_default": {
        "hidden": true
       },
       "report_default": {
        "hidden": true
       }
      }
     }
    }
   },
   "outputs": [],
   "source": [
    "u_sample = u_sample_copy.copy()"
   ]
  },
  {
   "cell_type": "markdown",
   "metadata": {
    "extensions": {
     "jupyter_dashboards": {
      "version": 1,
      "views": {
       "grid_default": {
        "col": 8,
        "height": 4,
        "hidden": false,
        "row": 69,
        "width": 4
       },
       "report_default": {
        "hidden": false
       }
      }
     }
    }
   },
   "source": [
    "### Join the two tables into the final version:"
   ]
  },
  {
   "cell_type": "code",
   "execution_count": 19,
   "metadata": {
    "collapsed": true,
    "extensions": {
     "jupyter_dashboards": {
      "version": 1,
      "views": {
       "grid_default": {
        "hidden": true
       },
       "report_default": {
        "hidden": true
       }
      }
     }
    }
   },
   "outputs": [],
   "source": [
    "totvs_sample = pd.merge(left=u_sample, right=produto_df, on='ide')"
   ]
  },
  {
   "cell_type": "code",
   "execution_count": 20,
   "metadata": {
    "collapsed": true,
    "extensions": {
     "jupyter_dashboards": {
      "version": 1,
      "views": {
       "grid_default": {
        "hidden": true
       },
       "report_default": {
        "hidden": true
       }
      }
     }
    }
   },
   "outputs": [],
   "source": [
    "totvs_sample = totvs_sample.drop('dets', axis=1)"
   ]
  },
  {
   "cell_type": "code",
   "execution_count": 21,
   "metadata": {
    "extensions": {
     "jupyter_dashboards": {
      "version": 1,
      "views": {
       "grid_default": {
        "col": 4,
        "height": 9,
        "hidden": false,
        "row": 75,
        "width": 5
       },
       "report_default": {
        "hidden": false
       }
      }
     }
    }
   },
   "outputs": [
    {
     "data": {
      "text/html": [
       "<div>\n",
       "<style scoped>\n",
       "    .dataframe tbody tr th:only-of-type {\n",
       "        vertical-align: middle;\n",
       "    }\n",
       "\n",
       "    .dataframe tbody tr th {\n",
       "        vertical-align: top;\n",
       "    }\n",
       "\n",
       "    .dataframe thead th {\n",
       "        text-align: right;\n",
       "    }\n",
       "</style>\n",
       "<table border=\"1\" class=\"dataframe\">\n",
       "  <thead>\n",
       "    <tr style=\"text-align: right;\">\n",
       "      <th></th>\n",
       "      <th>ide</th>\n",
       "      <th>infAdic</th>\n",
       "      <th>valorTotal</th>\n",
       "      <th>valorProduto</th>\n",
       "      <th>nomeProduto</th>\n",
       "    </tr>\n",
       "  </thead>\n",
       "  <tbody>\n",
       "    <tr>\n",
       "      <th>0</th>\n",
       "      <td>2016-01-05T12:01:54.000Z</td>\n",
       "      <td>Mesa 2</td>\n",
       "      <td>24.9</td>\n",
       "      <td>3.50</td>\n",
       "      <td>AGUA</td>\n",
       "    </tr>\n",
       "    <tr>\n",
       "      <th>1</th>\n",
       "      <td>2016-01-05T12:01:54.000Z</td>\n",
       "      <td>Mesa 2</td>\n",
       "      <td>24.9</td>\n",
       "      <td>21.40</td>\n",
       "      <td>BUFFET</td>\n",
       "    </tr>\n",
       "    <tr>\n",
       "      <th>2</th>\n",
       "      <td>2016-01-05T12:03:52.000Z</td>\n",
       "      <td>Mesa 1</td>\n",
       "      <td>92.53</td>\n",
       "      <td>83.55</td>\n",
       "      <td>BUFFET</td>\n",
       "    </tr>\n",
       "    <tr>\n",
       "      <th>3</th>\n",
       "      <td>2016-01-05T12:03:52.000Z</td>\n",
       "      <td>Mesa 1</td>\n",
       "      <td>92.53</td>\n",
       "      <td>9.00</td>\n",
       "      <td>REFRIGERANTE</td>\n",
       "    </tr>\n",
       "    <tr>\n",
       "      <th>4</th>\n",
       "      <td>2016-01-05T12:16:40.000Z</td>\n",
       "      <td>Mesa 5</td>\n",
       "      <td>57.86</td>\n",
       "      <td>4.50</td>\n",
       "      <td>SUCO</td>\n",
       "    </tr>\n",
       "  </tbody>\n",
       "</table>\n",
       "</div>"
      ],
      "text/plain": [
       "                        ide infAdic valorTotal  valorProduto   nomeProduto\n",
       "0  2016-01-05T12:01:54.000Z  Mesa 2       24.9          3.50          AGUA\n",
       "1  2016-01-05T12:01:54.000Z  Mesa 2       24.9         21.40        BUFFET\n",
       "2  2016-01-05T12:03:52.000Z  Mesa 1      92.53         83.55        BUFFET\n",
       "3  2016-01-05T12:03:52.000Z  Mesa 1      92.53          9.00  REFRIGERANTE\n",
       "4  2016-01-05T12:16:40.000Z  Mesa 5      57.86          4.50          SUCO"
      ]
     },
     "execution_count": 21,
     "metadata": {},
     "output_type": "execute_result"
    }
   ],
   "source": [
    "totvs_sample.head()"
   ]
  },
  {
   "cell_type": "markdown",
   "metadata": {
    "extensions": {
     "jupyter_dashboards": {
      "version": 1,
      "views": {
       "grid_default": {
        "col": 0,
        "height": 4,
        "hidden": false,
        "row": 77,
        "width": 4
       },
       "report_default": {
        "hidden": false
       }
      }
     }
    }
   },
   "source": [
    "### Using dates as index and correcting numerical values:"
   ]
  },
  {
   "cell_type": "code",
   "execution_count": 22,
   "metadata": {
    "collapsed": true,
    "extensions": {
     "jupyter_dashboards": {
      "version": 1,
      "views": {
       "grid_default": {
        "hidden": true
       },
       "report_default": {
        "hidden": true
       }
      }
     }
    }
   },
   "outputs": [],
   "source": [
    "totvs_sample.ide = pd.to_datetime(totvs_sample.ide)"
   ]
  },
  {
   "cell_type": "code",
   "execution_count": 23,
   "metadata": {
    "collapsed": true,
    "extensions": {
     "jupyter_dashboards": {
      "version": 1,
      "views": {
       "grid_default": {
        "hidden": true
       },
       "report_default": {
        "hidden": true
       }
      }
     }
    }
   },
   "outputs": [],
   "source": [
    "totvs_sample.valorTotal = pd.to_numeric(totvs_sample.valorTotal)\n",
    "totvs_sample.valorProduto = pd.to_numeric(totvs_sample.valorProduto)"
   ]
  },
  {
   "cell_type": "code",
   "execution_count": 24,
   "metadata": {
    "collapsed": true,
    "extensions": {
     "jupyter_dashboards": {
      "version": 1,
      "views": {
       "grid_default": {
        "hidden": true
       },
       "report_default": {
        "hidden": true
       }
      }
     }
    }
   },
   "outputs": [],
   "source": [
    "totvs_sample_date = totvs_sample.copy()"
   ]
  },
  {
   "cell_type": "code",
   "execution_count": 25,
   "metadata": {
    "collapsed": true,
    "extensions": {
     "jupyter_dashboards": {
      "version": 1,
      "views": {
       "grid_default": {
        "hidden": true
       },
       "report_default": {
        "hidden": true
       }
      }
     }
    }
   },
   "outputs": [],
   "source": [
    "totvs_sample_date = totvs_sample_date.set_index('ide')"
   ]
  },
  {
   "cell_type": "markdown",
   "metadata": {
    "extensions": {
     "jupyter_dashboards": {
      "version": 1,
      "views": {
       "grid_default": {
        "col": 0,
        "height": 4,
        "hidden": false,
        "row": 81,
        "width": 4
       },
       "report_default": {
        "hidden": false
       }
      }
     }
    }
   },
   "source": [
    "### The three important DFs:"
   ]
  },
  {
   "cell_type": "code",
   "execution_count": 26,
   "metadata": {
    "extensions": {
     "jupyter_dashboards": {
      "version": 1,
      "views": {
       "grid_default": {
        "col": 4,
        "height": 12,
        "hidden": false,
        "row": 84,
        "width": 5
       },
       "report_default": {
        "hidden": false
       }
      }
     }
    }
   },
   "outputs": [
    {
     "data": {
      "text/html": [
       "<div>\n",
       "<style scoped>\n",
       "    .dataframe tbody tr th:only-of-type {\n",
       "        vertical-align: middle;\n",
       "    }\n",
       "\n",
       "    .dataframe tbody tr th {\n",
       "        vertical-align: top;\n",
       "    }\n",
       "\n",
       "    .dataframe thead th {\n",
       "        text-align: right;\n",
       "    }\n",
       "</style>\n",
       "<table border=\"1\" class=\"dataframe\">\n",
       "  <thead>\n",
       "    <tr style=\"text-align: right;\">\n",
       "      <th></th>\n",
       "      <th>infAdic</th>\n",
       "      <th>valorTotal</th>\n",
       "      <th>valorProduto</th>\n",
       "      <th>nomeProduto</th>\n",
       "    </tr>\n",
       "    <tr>\n",
       "      <th>ide</th>\n",
       "      <th></th>\n",
       "      <th></th>\n",
       "      <th></th>\n",
       "      <th></th>\n",
       "    </tr>\n",
       "  </thead>\n",
       "  <tbody>\n",
       "    <tr>\n",
       "      <th>2016-01-05 12:01:54</th>\n",
       "      <td>Mesa 2</td>\n",
       "      <td>24.90</td>\n",
       "      <td>3.50</td>\n",
       "      <td>AGUA</td>\n",
       "    </tr>\n",
       "    <tr>\n",
       "      <th>2016-01-05 12:01:54</th>\n",
       "      <td>Mesa 2</td>\n",
       "      <td>24.90</td>\n",
       "      <td>21.40</td>\n",
       "      <td>BUFFET</td>\n",
       "    </tr>\n",
       "    <tr>\n",
       "      <th>2016-01-05 12:03:52</th>\n",
       "      <td>Mesa 1</td>\n",
       "      <td>92.53</td>\n",
       "      <td>83.55</td>\n",
       "      <td>BUFFET</td>\n",
       "    </tr>\n",
       "    <tr>\n",
       "      <th>2016-01-05 12:03:52</th>\n",
       "      <td>Mesa 1</td>\n",
       "      <td>92.53</td>\n",
       "      <td>9.00</td>\n",
       "      <td>REFRIGERANTE</td>\n",
       "    </tr>\n",
       "    <tr>\n",
       "      <th>2016-01-05 12:16:40</th>\n",
       "      <td>Mesa 5</td>\n",
       "      <td>57.86</td>\n",
       "      <td>4.50</td>\n",
       "      <td>SUCO</td>\n",
       "    </tr>\n",
       "  </tbody>\n",
       "</table>\n",
       "</div>"
      ],
      "text/plain": [
       "                    infAdic  valorTotal  valorProduto   nomeProduto\n",
       "ide                                                                \n",
       "2016-01-05 12:01:54  Mesa 2       24.90          3.50          AGUA\n",
       "2016-01-05 12:01:54  Mesa 2       24.90         21.40        BUFFET\n",
       "2016-01-05 12:03:52  Mesa 1       92.53         83.55        BUFFET\n",
       "2016-01-05 12:03:52  Mesa 1       92.53          9.00  REFRIGERANTE\n",
       "2016-01-05 12:16:40  Mesa 5       57.86          4.50          SUCO"
      ]
     },
     "execution_count": 26,
     "metadata": {},
     "output_type": "execute_result"
    }
   ],
   "source": [
    "totvs_sample_date.head()"
   ]
  },
  {
   "cell_type": "code",
   "execution_count": 27,
   "metadata": {
    "extensions": {
     "jupyter_dashboards": {
      "version": 1,
      "views": {
       "grid_default": {
        "col": 0,
        "height": 11,
        "hidden": false,
        "row": 96,
        "width": 5
       },
       "report_default": {
        "hidden": false
       }
      }
     }
    }
   },
   "outputs": [
    {
     "data": {
      "text/html": [
       "<div>\n",
       "<style scoped>\n",
       "    .dataframe tbody tr th:only-of-type {\n",
       "        vertical-align: middle;\n",
       "    }\n",
       "\n",
       "    .dataframe tbody tr th {\n",
       "        vertical-align: top;\n",
       "    }\n",
       "\n",
       "    .dataframe thead th {\n",
       "        text-align: right;\n",
       "    }\n",
       "</style>\n",
       "<table border=\"1\" class=\"dataframe\">\n",
       "  <thead>\n",
       "    <tr style=\"text-align: right;\">\n",
       "      <th></th>\n",
       "      <th>ide</th>\n",
       "      <th>infAdic</th>\n",
       "      <th>valorTotal</th>\n",
       "      <th>valorProduto</th>\n",
       "      <th>nomeProduto</th>\n",
       "    </tr>\n",
       "  </thead>\n",
       "  <tbody>\n",
       "    <tr>\n",
       "      <th>0</th>\n",
       "      <td>2016-01-05 12:01:54</td>\n",
       "      <td>Mesa 2</td>\n",
       "      <td>24.90</td>\n",
       "      <td>3.50</td>\n",
       "      <td>AGUA</td>\n",
       "    </tr>\n",
       "    <tr>\n",
       "      <th>1</th>\n",
       "      <td>2016-01-05 12:01:54</td>\n",
       "      <td>Mesa 2</td>\n",
       "      <td>24.90</td>\n",
       "      <td>21.40</td>\n",
       "      <td>BUFFET</td>\n",
       "    </tr>\n",
       "    <tr>\n",
       "      <th>2</th>\n",
       "      <td>2016-01-05 12:03:52</td>\n",
       "      <td>Mesa 1</td>\n",
       "      <td>92.53</td>\n",
       "      <td>83.55</td>\n",
       "      <td>BUFFET</td>\n",
       "    </tr>\n",
       "    <tr>\n",
       "      <th>3</th>\n",
       "      <td>2016-01-05 12:03:52</td>\n",
       "      <td>Mesa 1</td>\n",
       "      <td>92.53</td>\n",
       "      <td>9.00</td>\n",
       "      <td>REFRIGERANTE</td>\n",
       "    </tr>\n",
       "    <tr>\n",
       "      <th>4</th>\n",
       "      <td>2016-01-05 12:16:40</td>\n",
       "      <td>Mesa 5</td>\n",
       "      <td>57.86</td>\n",
       "      <td>4.50</td>\n",
       "      <td>SUCO</td>\n",
       "    </tr>\n",
       "  </tbody>\n",
       "</table>\n",
       "</div>"
      ],
      "text/plain": [
       "                  ide infAdic  valorTotal  valorProduto   nomeProduto\n",
       "0 2016-01-05 12:01:54  Mesa 2       24.90          3.50          AGUA\n",
       "1 2016-01-05 12:01:54  Mesa 2       24.90         21.40        BUFFET\n",
       "2 2016-01-05 12:03:52  Mesa 1       92.53         83.55        BUFFET\n",
       "3 2016-01-05 12:03:52  Mesa 1       92.53          9.00  REFRIGERANTE\n",
       "4 2016-01-05 12:16:40  Mesa 5       57.86          4.50          SUCO"
      ]
     },
     "execution_count": 27,
     "metadata": {},
     "output_type": "execute_result"
    }
   ],
   "source": [
    "totvs_sample.head()"
   ]
  },
  {
   "cell_type": "code",
   "execution_count": 28,
   "metadata": {
    "extensions": {
     "jupyter_dashboards": {
      "version": 1,
      "views": {
       "grid_default": {
        "col": 0,
        "height": 11,
        "hidden": false,
        "row": 85,
        "width": 4
       },
       "report_default": {
        "hidden": false
       }
      }
     }
    }
   },
   "outputs": [
    {
     "data": {
      "text/html": [
       "<div>\n",
       "<style scoped>\n",
       "    .dataframe tbody tr th:only-of-type {\n",
       "        vertical-align: middle;\n",
       "    }\n",
       "\n",
       "    .dataframe tbody tr th {\n",
       "        vertical-align: top;\n",
       "    }\n",
       "\n",
       "    .dataframe thead th {\n",
       "        text-align: right;\n",
       "    }\n",
       "</style>\n",
       "<table border=\"1\" class=\"dataframe\">\n",
       "  <thead>\n",
       "    <tr style=\"text-align: right;\">\n",
       "      <th></th>\n",
       "      <th>dets</th>\n",
       "      <th>ide</th>\n",
       "      <th>infAdic</th>\n",
       "      <th>valorTotal</th>\n",
       "    </tr>\n",
       "  </thead>\n",
       "  <tbody>\n",
       "    <tr>\n",
       "      <th>0</th>\n",
       "      <td>[{'nItem': '1', 'prod': {'indTot': '1', 'qCom'...</td>\n",
       "      <td>2016-01-05T12:01:54.000Z</td>\n",
       "      <td>Mesa 2</td>\n",
       "      <td>24.90</td>\n",
       "    </tr>\n",
       "    <tr>\n",
       "      <th>1</th>\n",
       "      <td>[{'nItem': '1', 'prod': {'indTot': '1', 'qCom'...</td>\n",
       "      <td>2016-01-05T12:03:52.000Z</td>\n",
       "      <td>Mesa 1</td>\n",
       "      <td>92.53</td>\n",
       "    </tr>\n",
       "    <tr>\n",
       "      <th>2</th>\n",
       "      <td>[{'nItem': '1', 'prod': {'indTot': '1', 'qCom'...</td>\n",
       "      <td>2016-01-05T12:16:40.000Z</td>\n",
       "      <td>Mesa 5</td>\n",
       "      <td>57.86</td>\n",
       "    </tr>\n",
       "    <tr>\n",
       "      <th>3</th>\n",
       "      <td>[{'nItem': '1', 'prod': {'indTot': '1', 'qCom'...</td>\n",
       "      <td>2016-01-05T12:17:50.000Z</td>\n",
       "      <td>Mesa 3</td>\n",
       "      <td>34.97</td>\n",
       "    </tr>\n",
       "    <tr>\n",
       "      <th>4</th>\n",
       "      <td>[{'nItem': '1', 'prod': {'indTot': '1', 'qCom'...</td>\n",
       "      <td>2016-01-05T12:18:35.000Z</td>\n",
       "      <td>Mesa 4</td>\n",
       "      <td>46.23</td>\n",
       "    </tr>\n",
       "  </tbody>\n",
       "</table>\n",
       "</div>"
      ],
      "text/plain": [
       "                                                dets  \\\n",
       "0  [{'nItem': '1', 'prod': {'indTot': '1', 'qCom'...   \n",
       "1  [{'nItem': '1', 'prod': {'indTot': '1', 'qCom'...   \n",
       "2  [{'nItem': '1', 'prod': {'indTot': '1', 'qCom'...   \n",
       "3  [{'nItem': '1', 'prod': {'indTot': '1', 'qCom'...   \n",
       "4  [{'nItem': '1', 'prod': {'indTot': '1', 'qCom'...   \n",
       "\n",
       "                        ide infAdic  valorTotal  \n",
       "0  2016-01-05T12:01:54.000Z  Mesa 2       24.90  \n",
       "1  2016-01-05T12:03:52.000Z  Mesa 1       92.53  \n",
       "2  2016-01-05T12:16:40.000Z  Mesa 5       57.86  \n",
       "3  2016-01-05T12:17:50.000Z  Mesa 3       34.97  \n",
       "4  2016-01-05T12:18:35.000Z  Mesa 4       46.23  "
      ]
     },
     "execution_count": 28,
     "metadata": {},
     "output_type": "execute_result"
    }
   ],
   "source": [
    "u_sample.valorTotal = pd.to_numeric(u_sample.valorTotal)\n",
    "u_sample.head()"
   ]
  },
  {
   "cell_type": "code",
   "execution_count": 29,
   "metadata": {
    "extensions": {
     "jupyter_dashboards": {
      "version": 1,
      "views": {
       "grid_default": {
        "col": 5,
        "height": 6,
        "hidden": false,
        "row": 96,
        "width": 4
       },
       "report_default": {
        "hidden": false
       }
      }
     }
    }
   },
   "outputs": [
    {
     "data": {
      "text/plain": [
       "count    1635.000000\n",
       "mean       55.504171\n",
       "std        39.217462\n",
       "min         9.740000\n",
       "25%        30.985000\n",
       "50%        43.260000\n",
       "75%        69.230000\n",
       "max       608.910000\n",
       "Name: valorTotal, dtype: float64"
      ]
     },
     "execution_count": 29,
     "metadata": {},
     "output_type": "execute_result"
    }
   ],
   "source": [
    "u_sample.valorTotal.describe()"
   ]
  },
  {
   "cell_type": "markdown",
   "metadata": {
    "extensions": {
     "jupyter_dashboards": {
      "version": 1,
      "views": {
       "grid_default": {
        "col": 0,
        "height": 4,
        "hidden": false,
        "row": 107,
        "width": 12
       },
       "report_default": {
        "hidden": false
       }
      }
     }
    }
   },
   "source": [
    "\n",
    "#### The outliers should be removed for real data predicts.\n",
    "\n",
    "#### Values that exceed 1.5 stdev from the mean will be removed.\n",
    "\n"
   ]
  },
  {
   "cell_type": "code",
   "execution_count": 52,
   "metadata": {
    "collapsed": true,
    "extensions": {
     "jupyter_dashboards": {
      "version": 1,
      "views": {
       "grid_default": {
        "hidden": true
       },
       "report_default": {
        "hidden": true
       }
      }
     }
    }
   },
   "outputs": [],
   "source": [
    "outliers = 55.504171 + (1.5 * 39.217462)\n",
    "u_sample_corrected = u_sample[u_sample.valorTotal < outliers]"
   ]
  },
  {
   "cell_type": "code",
   "execution_count": 53,
   "metadata": {
    "extensions": {
     "jupyter_dashboards": {
      "version": 1,
      "views": {
       "grid_default": {
        "col": 0,
        "height": 6,
        "hidden": false,
        "row": 111,
        "width": 4
       },
       "report_default": {
        "hidden": false
       }
      }
     }
    }
   },
   "outputs": [
    {
     "data": {
      "text/plain": [
       "count    1528.000000\n",
       "mean       48.336414\n",
       "std        23.552045\n",
       "min         9.740000\n",
       "25%        30.290000\n",
       "50%        41.085000\n",
       "75%        63.480000\n",
       "max       114.290000\n",
       "Name: valorTotal, dtype: float64"
      ]
     },
     "execution_count": 53,
     "metadata": {},
     "output_type": "execute_result"
    }
   ],
   "source": [
    "u_sample_corrected.valorTotal.describe()"
   ]
  },
  {
   "cell_type": "code",
   "execution_count": 80,
   "metadata": {
    "extensions": {
     "jupyter_dashboards": {
      "version": 1,
      "views": {
       "grid_default": {
        "col": 4,
        "height": 9,
        "hidden": false,
        "row": 111,
        "width": 4
       },
       "report_default": {
        "hidden": false
       }
      }
     }
    }
   },
   "outputs": [
    {
     "data": {
      "image/png": "[encoded data removed]",
      "text/plain": [
       "<matplotlib.figure.Figure at 0x20460cb6978>"
      ]
     },
     "metadata": {},
     "output_type": "display_data"
    }
   ],
   "source": [
    "u_sample_corrected.plot(kind='hist')\n",
    "plt.title('Frequency of total values for each costumer')\n",
    "plt.show()"
   ]
  },
  {
   "cell_type": "markdown",
   "metadata": {
    "extensions": {
     "jupyter_dashboards": {
      "version": 1,
      "views": {
       "grid_default": {
        "col": 5,
        "height": 4,
        "hidden": false,
        "row": 102,
        "width": 4
       },
       "report_default": {
        "hidden": false
       }
      }
     }
    }
   },
   "source": [
    "## The average costumer\n",
    "\n",
    "#### As seen above, the average costumer will spend a value around `$`50 and rarely exceeding `$`100.\n",
    " \n",
    " "
   ]
  },
  {
   "cell_type": "code",
   "execution_count": 32,
   "metadata": {
    "collapsed": true,
    "extensions": {
     "jupyter_dashboards": {
      "version": 1,
      "views": {
       "grid_default": {
        "hidden": true
       },
       "report_default": {
        "hidden": true
       }
      }
     }
    }
   },
   "outputs": [],
   "source": [
    "buffet = totvs_sample.nomeProduto == 'BUFFET'"
   ]
  },
  {
   "cell_type": "code",
   "execution_count": 35,
   "metadata": {
    "extensions": {
     "jupyter_dashboards": {
      "version": 1,
      "views": {
       "grid_default": {
        "hidden": true
       },
       "report_default": {
        "hidden": true
       }
      }
     }
    }
   },
   "outputs": [],
   "source": [
    "buffet_sample = totvs_sample[buffet]"
   ]
  },
  {
   "cell_type": "markdown",
   "metadata": {
    "extensions": {
     "jupyter_dashboards": {
      "version": 1,
      "views": {
       "grid_default": {
        "col": 8,
        "height": 4,
        "hidden": false,
        "row": 111,
        "width": 4
       },
       "report_default": {
        "hidden": false
       }
      }
     }
    }
   },
   "source": [
    "#### The buffet corresponds, in average, to 85% of the total value for each costumer:"
   ]
  },
  {
   "cell_type": "code",
   "execution_count": 65,
   "metadata": {
    "extensions": {
     "jupyter_dashboards": {
      "version": 1,
      "views": {
       "grid_default": {
        "col": 8,
        "height": 6,
        "hidden": false,
        "row": 115,
        "width": 4
       },
       "report_default": {
        "hidden": false
       }
      }
     }
    }
   },
   "outputs": [
    {
     "data": {
      "text/plain": [
       "count    1647.000000\n",
       "mean       85.618170\n",
       "std        12.461153\n",
       "min         8.245332\n",
       "25%        80.426480\n",
       "50%        87.373737\n",
       "75%        94.402023\n",
       "max       100.049285\n",
       "dtype: float64"
      ]
     },
     "execution_count": 65,
     "metadata": {},
     "output_type": "execute_result"
    }
   ],
   "source": [
    "buffet_percent = (buffet_sample.valorProduto / buffet_sample.valorTotal) * 100\n",
    "buffet_percent.describe()"
   ]
  },
  {
   "cell_type": "markdown",
   "metadata": {
    "extensions": {
     "jupyter_dashboards": {
      "version": 1,
      "views": {
       "grid_default": {
        "col": 0,
        "height": 4,
        "hidden": false,
        "row": 117,
        "width": 4
       },
       "report_default": {
        "hidden": false
       }
      }
     }
    }
   },
   "source": [
    "### Different times"
   ]
  },
  {
   "cell_type": "markdown",
   "metadata": {
    "extensions": {
     "jupyter_dashboards": {
      "version": 1,
      "views": {
       "grid_default": {
        "col": 4,
        "height": 4,
        "hidden": false,
        "row": 120,
        "width": 4
       },
       "report_default": {
        "hidden": false
       }
      }
     }
    }
   },
   "source": [
    "#### Lunch costumer:"
   ]
  },
  {
   "cell_type": "code",
   "execution_count": 105,
   "metadata": {
    "extensions": {
     "jupyter_dashboards": {
      "version": 1,
      "views": {
       "grid_default": {
        "col": 0,
        "height": 9,
        "hidden": false,
        "row": 121,
        "width": 4
       },
       "report_default": {
        "hidden": false
       }
      }
     }
    }
   },
   "outputs": [
    {
     "data": {
      "text/html": [
       "<div>\n",
       "<style scoped>\n",
       "    .dataframe tbody tr th:only-of-type {\n",
       "        vertical-align: middle;\n",
       "    }\n",
       "\n",
       "    .dataframe tbody tr th {\n",
       "        vertical-align: top;\n",
       "    }\n",
       "\n",
       "    .dataframe thead th {\n",
       "        text-align: right;\n",
       "    }\n",
       "</style>\n",
       "<table border=\"1\" class=\"dataframe\">\n",
       "  <thead>\n",
       "    <tr style=\"text-align: right;\">\n",
       "      <th></th>\n",
       "      <th>valorTotal</th>\n",
       "    </tr>\n",
       "  </thead>\n",
       "  <tbody>\n",
       "    <tr>\n",
       "      <th>count</th>\n",
       "      <td>1060.000000</td>\n",
       "    </tr>\n",
       "    <tr>\n",
       "      <th>mean</th>\n",
       "      <td>44.644151</td>\n",
       "    </tr>\n",
       "    <tr>\n",
       "      <th>std</th>\n",
       "      <td>21.325379</td>\n",
       "    </tr>\n",
       "    <tr>\n",
       "      <th>min</th>\n",
       "      <td>9.740000</td>\n",
       "    </tr>\n",
       "    <tr>\n",
       "      <th>25%</th>\n",
       "      <td>29.187500</td>\n",
       "    </tr>\n",
       "    <tr>\n",
       "      <th>50%</th>\n",
       "      <td>37.490000</td>\n",
       "    </tr>\n",
       "    <tr>\n",
       "      <th>75%</th>\n",
       "      <td>56.677500</td>\n",
       "    </tr>\n",
       "    <tr>\n",
       "      <th>max</th>\n",
       "      <td>114.290000</td>\n",
       "    </tr>\n",
       "  </tbody>\n",
       "</table>\n",
       "</div>"
      ],
      "text/plain": [
       "        valorTotal\n",
       "count  1060.000000\n",
       "mean     44.644151\n",
       "std      21.325379\n",
       "min       9.740000\n",
       "25%      29.187500\n",
       "50%      37.490000\n",
       "75%      56.677500\n",
       "max     114.290000"
      ]
     },
     "execution_count": 105,
     "metadata": {},
     "output_type": "execute_result"
    }
   ],
   "source": [
    "v_total_sample = u_sample.copy()\n",
    "v_total_sample.ide = pd.to_datetime(v_total_sample.ide)\n",
    "v_total_sample = v_total_sample.set_index('ide')\n",
    "v_total_sample = v_total_sample.drop('dets', axis=1)\n",
    "v_total_sample_out = v_total_sample[v_total_sample.valorTotal < outliers] #remove outliers\n",
    "\n",
    "lunch = v_total_sample_out.between_time(start_time='12:00', end_time='16:00')\n",
    "lunch.describe()"
   ]
  },
  {
   "cell_type": "code",
   "execution_count": 106,
   "metadata": {
    "extensions": {
     "jupyter_dashboards": {
      "version": 1,
      "views": {
       "grid_default": {
        "col": 8,
        "height": 9,
        "hidden": false,
        "row": 121,
        "width": 4
       },
       "report_default": {
        "hidden": false
       }
      }
     }
    }
   },
   "outputs": [
    {
     "data": {
      "image/png": "[encoded data removed]",
      "text/plain": [
       "<matplotlib.figure.Figure at 0x204613b6cf8>"
      ]
     },
     "metadata": {},
     "output_type": "display_data"
    }
   ],
   "source": [
    "lunch.plot(kind='hist')\n",
    "plt.title('Frequency of total values at lunch')\n",
    "plt.show()"
   ]
  },
  {
   "cell_type": "code",
   "execution_count": null,
   "metadata": {
    "collapsed": true,
    "extensions": {
     "jupyter_dashboards": {
      "version": 1,
      "views": {
       "grid_default": {
        "hidden": true
       },
       "report_default": {
        "hidden": true
       }
      }
     }
    }
   },
   "outputs": [],
   "source": []
  },
  {
   "cell_type": "code",
   "execution_count": 107,
   "metadata": {
    "extensions": {
     "jupyter_dashboards": {
      "version": 1,
      "views": {
       "grid_default": {
        "col": 4,
        "height": 9,
        "hidden": false,
        "row": 124,
        "width": 4
       },
       "report_default": {
        "hidden": false
       }
      }
     }
    }
   },
   "outputs": [
    {
     "data": {
      "text/html": [
       "<div>\n",
       "<style scoped>\n",
       "    .dataframe tbody tr th:only-of-type {\n",
       "        vertical-align: middle;\n",
       "    }\n",
       "\n",
       "    .dataframe tbody tr th {\n",
       "        vertical-align: top;\n",
       "    }\n",
       "\n",
       "    .dataframe thead th {\n",
       "        text-align: right;\n",
       "    }\n",
       "</style>\n",
       "<table border=\"1\" class=\"dataframe\">\n",
       "  <thead>\n",
       "    <tr style=\"text-align: right;\">\n",
       "      <th></th>\n",
       "      <th>valorTotal</th>\n",
       "    </tr>\n",
       "  </thead>\n",
       "  <tbody>\n",
       "    <tr>\n",
       "      <th>count</th>\n",
       "      <td>460.000000</td>\n",
       "    </tr>\n",
       "    <tr>\n",
       "      <th>mean</th>\n",
       "      <td>56.792283</td>\n",
       "    </tr>\n",
       "    <tr>\n",
       "      <th>std</th>\n",
       "      <td>26.208146</td>\n",
       "    </tr>\n",
       "    <tr>\n",
       "      <th>min</th>\n",
       "      <td>11.930000</td>\n",
       "    </tr>\n",
       "    <tr>\n",
       "      <th>25%</th>\n",
       "      <td>35.572500</td>\n",
       "    </tr>\n",
       "    <tr>\n",
       "      <th>50%</th>\n",
       "      <td>51.890000</td>\n",
       "    </tr>\n",
       "    <tr>\n",
       "      <th>75%</th>\n",
       "      <td>75.895000</td>\n",
       "    </tr>\n",
       "    <tr>\n",
       "      <th>max</th>\n",
       "      <td>113.700000</td>\n",
       "    </tr>\n",
       "  </tbody>\n",
       "</table>\n",
       "</div>"
      ],
      "text/plain": [
       "       valorTotal\n",
       "count  460.000000\n",
       "mean    56.792283\n",
       "std     26.208146\n",
       "min     11.930000\n",
       "25%     35.572500\n",
       "50%     51.890000\n",
       "75%     75.895000\n",
       "max    113.700000"
      ]
     },
     "execution_count": 107,
     "metadata": {},
     "output_type": "execute_result"
    }
   ],
   "source": [
    "dinner = v_total_sample_out.between_time(start_time='16:00', end_time='23:59')\n",
    "dinner.describe()"
   ]
  },
  {
   "cell_type": "code",
   "execution_count": 108,
   "metadata": {
    "extensions": {
     "jupyter_dashboards": {
      "version": 1,
      "views": {
       "grid_default": {
        "col": 0,
        "height": 9,
        "hidden": false,
        "row": 130,
        "width": 4
       },
       "report_default": {
        "hidden": false
       }
      }
     }
    }
   },
   "outputs": [
    {
     "data": {
      "image/png": "[encoded data removed]",
      "text/plain": [
       "<matplotlib.figure.Figure at 0x20460f38898>"
      ]
     },
     "metadata": {},
     "output_type": "display_data"
    }
   ],
   "source": [
    "dinner.plot(kind='hist')\n",
    "plt.title('Frequency of total values at dinner')\n",
    "plt.show()"
   ]
  },
  {
   "cell_type": "markdown",
   "metadata": {
    "extensions": {
     "jupyter_dashboards": {
      "version": 1,
      "views": {
       "grid_default": {
        "col": 8,
        "height": 4,
        "hidden": false,
        "row": 130,
        "width": 4
       },
       "report_default": {
        "hidden": false
       }
      }
     }
    }
   },
   "source": [
    "### Weekly values"
   ]
  },
  {
   "cell_type": "code",
   "execution_count": 112,
   "metadata": {
    "extensions": {
     "jupyter_dashboards": {
      "version": 1,
      "views": {
       "grid_default": {
        "col": 4,
        "height": 6,
        "hidden": false,
        "row": 133,
        "width": 4
       },
       "report_default": {
        "hidden": false
       }
      }
     }
    }
   },
   "outputs": [
    {
     "data": {
      "text/html": [
       "<div>\n",
       "<style scoped>\n",
       "    .dataframe tbody tr th:only-of-type {\n",
       "        vertical-align: middle;\n",
       "    }\n",
       "\n",
       "    .dataframe tbody tr th {\n",
       "        vertical-align: top;\n",
       "    }\n",
       "\n",
       "    .dataframe thead th {\n",
       "        text-align: right;\n",
       "    }\n",
       "</style>\n",
       "<table border=\"1\" class=\"dataframe\">\n",
       "  <thead>\n",
       "    <tr style=\"text-align: right;\">\n",
       "      <th></th>\n",
       "      <th>valorTotal</th>\n",
       "    </tr>\n",
       "    <tr>\n",
       "      <th>ide</th>\n",
       "      <th></th>\n",
       "    </tr>\n",
       "  </thead>\n",
       "  <tbody>\n",
       "    <tr>\n",
       "      <th>2016-01-10</th>\n",
       "      <td>19897.96</td>\n",
       "    </tr>\n",
       "    <tr>\n",
       "      <th>2016-01-17</th>\n",
       "      <td>25339.28</td>\n",
       "    </tr>\n",
       "    <tr>\n",
       "      <th>2016-01-24</th>\n",
       "      <td>28620.80</td>\n",
       "    </tr>\n",
       "  </tbody>\n",
       "</table>\n",
       "</div>"
      ],
      "text/plain": [
       "            valorTotal\n",
       "ide                   \n",
       "2016-01-10    19897.96\n",
       "2016-01-17    25339.28\n",
       "2016-01-24    28620.80"
      ]
     },
     "execution_count": 112,
     "metadata": {},
     "output_type": "execute_result"
    }
   ],
   "source": [
    "weekly = v_total_sample_out.resample('W').sum()\n",
    "weekly"
   ]
  },
  {
   "cell_type": "markdown",
   "metadata": {
    "extensions": {
     "jupyter_dashboards": {
      "version": 1,
      "views": {
       "grid_default": {
        "col": 8,
        "height": 4,
        "hidden": false,
        "row": 134,
        "width": 4
       },
       "report_default": {
        "hidden": false
       }
      }
     }
    }
   },
   "source": [
    "#### Weekly growth:"
   ]
  },
  {
   "cell_type": "code",
   "execution_count": 128,
   "metadata": {
    "extensions": {
     "jupyter_dashboards": {
      "version": 1,
      "views": {
       "grid_default": {
        "col": 8,
        "height": 4,
        "hidden": false,
        "row": 138,
        "width": 4
       },
       "report_default": {
        "hidden": false
       }
      }
     }
    }
   },
   "outputs": [
    {
     "name": "stdout",
     "output_type": "stream",
     "text": [
      "First to second week growth: 27%\n",
      "Second to third week growth: 12%\n"
     ]
    }
   ],
   "source": [
    "f_to_s = ((weekly.iloc[1] / weekly.iloc[0]) - 1) * 100\n",
    "f_to_s = f_to_s.astype(int)\n",
    "s_to_t = ((weekly.iloc[2] / weekly.iloc[1]) - 1) * 100\n",
    "s_to_t = s_to_t.astype(int)\n",
    "\n",
    "print('First to second week growth: {}%'.format(f_to_s[0]))\n",
    "print('Second to third week growth: {}%'.format(s_to_t[0]))"
   ]
  },
  {
   "cell_type": "markdown",
   "metadata": {
    "extensions": {
     "jupyter_dashboards": {
      "version": 1,
      "views": {
       "grid_default": {
        "col": 0,
        "height": 4,
        "hidden": false,
        "row": 139,
        "width": 4
       },
       "report_default": {
        "hidden": false
       }
      }
     }
    }
   },
   "source": [
    "#### As the income seems to be on a descending growth, it's expected to see a value around 6% for the next week. This will result in a income around:"
   ]
  },
  {
   "cell_type": "code",
   "execution_count": 133,
   "metadata": {
    "extensions": {
     "jupyter_dashboards": {
      "version": 1,
      "views": {
       "grid_default": {
        "col": 4,
        "height": 4,
        "hidden": false,
        "row": 139,
        "width": 4
       },
       "report_default": {
        "hidden": false
       }
      }
     }
    }
   },
   "outputs": [
    {
     "name": "stdout",
     "output_type": "stream",
     "text": [
      "The expected sales forecast for the upcoming week should be around: $30338.05\n"
     ]
    }
   ],
   "source": [
    "fourth_week = weekly.iloc[2] * 1.06\n",
    "print('The expected sales forecast for the upcoming week should be around: ${:.2f}'.format(fourth_week[0]))"
   ]
  },
  {
   "cell_type": "markdown",
   "metadata": {},
   "source": [
    "# Conclusions"
   ]
  },
  {
   "cell_type": "markdown",
   "metadata": {},
   "source": [
    "The average costumer spends around `$`50,00 and the buffet is usually 80% of that value.\n",
    "\n",
    "At lunch, the costumers spend less and tend to stay pretty close to the value above. On the other hand, at dinner, despite the close average, there are more clients that spend between `$`50,00 and `$`100,00, but rarely above.\n",
    "\n",
    "The expected weekly value seems to be on a growth, but with a trend to stay around `$`30,000."
   ]
  }
 ],
 "metadata": {
  "extensions": {
   "jupyter_dashboards": {
    "activeView": "report_default",
    "version": 1,
    "views": {
     "grid_default": {
      "cellMargin": 10,
      "defaultCellHeight": 20,
      "maxColumns": 12,
      "name": "grid",
      "type": "grid"
     },
     "report_default": {
      "name": "report",
      "type": "report"
     }
    }
   }
  },
  "kernelspec": {
   "display_name": "Python 3",
   "language": "python",
   "name": "python3"
  },
  "language_info": {
   "codemirror_mode": {
    "name": "ipython",
    "version": 3
   },
   "file_extension": ".py",
   "mimetype": "text/x-python",
   "name": "python",
   "nbconvert_exporter": "python",
   "pygments_lexer": "ipython3",
   "version": "3.6.4"
  }
 },
 "nbformat": 4,
 "nbformat_minor": 2
}
